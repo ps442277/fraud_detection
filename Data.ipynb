{
  "nbformat": 4,
  "nbformat_minor": 0,
  "metadata": {
    "colab": {
      "name": "Data.ipynb",
      "provenance": []
    },
    "kernelspec": {
      "name": "python3",
      "display_name": "Python 3"
    },
    "language_info": {
      "name": "python"
    }
  },
  "cells": [
    {
      "cell_type": "code",
      "metadata": {
        "id": "OBF0Quv3mbGO"
      },
      "source": [
        "# Price Data\n",
        "\n",
        "item_dict = {'almonds': 6,\n",
        " 'antioxidant juice': 9,\n",
        " 'avocado': 1,\n",
        " 'black tea': 4,\n",
        " 'burgers': 4,\n",
        " 'champagne': 3,\n",
        " 'chicken': 4,\n",
        " 'chocolate': 7,\n",
        " 'chutney': 7,\n",
        " 'cookies': 7,\n",
        " 'cooking oil': 7,\n",
        " 'cottage cheese': 9,\n",
        " 'eggs': 9,\n",
        " 'energy bar': 9,\n",
        " 'energy drink': 3,\n",
        " 'extra dark chocolate': 8,\n",
        " 'french fries': 7,\n",
        " 'fresh tuna': 9,\n",
        " 'frozen smoothie': 7,\n",
        " 'frozen vegetables': 2,\n",
        " 'green grapes': 8,\n",
        " 'green tea': 8,\n",
        " 'honey': 9,\n",
        " 'light cream': 5,\n",
        " 'low fat yogurt': 4,\n",
        " 'meatballs': 9,\n",
        " 'milk': 5,\n",
        " 'mineral water': 2,\n",
        " 'oil': 9,\n",
        " 'olive oil': 8,\n",
        " 'pet food': 3,\n",
        " 'protein bar': 1,\n",
        " 'salad': 7,\n",
        " 'salmon': 3,\n",
        " 'shallot': 6,\n",
        " 'shrimp': 2,\n",
        " 'soup': 2,\n",
        " 'spaghetti': 6,\n",
        " 'spinach': 7,\n",
        " 'tomato juice': 8,\n",
        " 'tomatoes': 5,\n",
        " 'turkey': 8,\n",
        " 'vegetables mix': 3,\n",
        " 'whole wheat flour': 5,\n",
        " 'whole wheat pasta': 5,\n",
        " 'whole wheat rice': 4,\n",
        " 'yams': 7}"
      ],
      "execution_count": 1,
      "outputs": []
    },
    {
      "cell_type": "code",
      "metadata": {
        "id": "_uutgZt4mcgz"
      },
      "source": [
        "# transaction data\n",
        "\n",
        "transaction_data = \\\n",
        "[['shrimp', 'almonds', 'avocado', 'vegetables mix', 'green grapes', 'whole wheat flour', 'yams', 'cottage cheese', 'energy drink', 'tomato juice', 'low fat yogurt', 'green tea', 'honey', 'salad', 'mineral water', 'salmon', 'antioxidant juice', 'frozen smoothie', 'spinach', 'olive oil'],\n",
        "['burgers', 'meatballs', 'eggs'],\n",
        "['chutney'],\n",
        "['turkey', 'avocado'],\n",
        "['mineral water', 'milk', 'energy bar', 'whole wheat rice', 'green tea'],\n",
        "['low fat yogurt'],\n",
        "['whole wheat pasta', 'french fries'],\n",
        "['soup', 'light cream', 'shallot'],\n",
        "['frozen vegetables', 'spaghetti', 'green tea'],\n",
        "['french fries'],\n",
        "['eggs', 'pet food'],\n",
        "['cookies'],\n",
        "['turkey', 'burgers', 'mineral water', 'eggs', 'cooking oil'],\n",
        "['spaghetti', 'champagne', 'cookies'],\n",
        "['mineral water', 'salmon'],\n",
        "['mineral water'],\n",
        "['shrimp', 'chocolate', 'chicken', 'honey', 'oil', 'cooking oil', 'low fat yogurt'],\n",
        "['turkey', 'eggs'],\n",
        "['turkey', 'fresh tuna', 'tomatoes', 'spaghetti', 'mineral water', 'black tea', 'salmon', 'eggs', 'chicken', 'extra dark chocolate'],\n",
        "['meatballs', 'milk', 'honey', 'french fries', 'protein bar']]"
      ],
      "execution_count": 3,
      "outputs": []
    },
    {
      "cell_type": "code",
      "metadata": {
        "id": "lTmOHxeVmjt0"
      },
      "source": [
        ""
      ],
      "execution_count": null,
      "outputs": []
    }
  ]
}